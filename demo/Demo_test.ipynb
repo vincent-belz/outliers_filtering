{
 "cells": [
  {
   "cell_type": "code",
   "execution_count": 1,
   "id": "51503c65-e5c9-46a5-bf17-6c85430306dc",
   "metadata": {},
   "outputs": [],
   "source": [
    "import pandas as pd\n",
    "import os,sys,inspect\n",
    "currentdir = os.path.dirname(os.path.abspath(inspect.getfile(inspect.currentframe())))\n",
    "sys.path.append('..')\n",
    "from outliers_filtering.utils import remove_outliers_numeric, plot_distribution_numeric"
   ]
  },
  {
   "cell_type": "code",
   "execution_count": 2,
   "id": "4b81a52f-4000-4560-a92a-75789d8567d5",
   "metadata": {},
   "outputs": [],
   "source": [
    "data = pd.read_csv('../data/data_demo.csv')"
   ]
  },
  {
   "cell_type": "code",
   "execution_count": 5,
   "id": "602da932-8065-4883-92a4-07ee667e254d",
   "metadata": {},
   "outputs": [],
   "source": [
    "size_input = data.shape[0]\n",
    "min_input = data['useful_area'].min()\n",
    "max_input = data['useful_area'].max()"
   ]
  },
  {
   "cell_type": "code",
   "execution_count": 6,
   "id": "4948aa1f-a3aa-40c7-99fc-cb8300373fa3",
   "metadata": {},
   "outputs": [],
   "source": [
    "data = remove_outliers_numeric(data,feature = 'useful_area', option = \"lognormal\",delta=1.5)"
   ]
  },
  {
   "cell_type": "code",
   "execution_count": 7,
   "id": "1a99d1a5-0ea5-4abc-98f6-a9d7d5df7c0e",
   "metadata": {},
   "outputs": [],
   "source": [
    "size_output = data.shape[0]\n",
    "min_output = data['useful_area'].min()\n",
    "max_output = data['useful_area'].max()"
   ]
  },
  {
   "cell_type": "code",
   "execution_count": 10,
   "id": "3c1cf5c2-c0fe-4d88-b871-d2a2ca94390c",
   "metadata": {},
   "outputs": [],
   "source": [
    "assert size_output < size_input"
   ]
  },
  {
   "cell_type": "code",
   "execution_count": 11,
   "id": "f44effbb-2fa7-4bcd-99ec-b53b3f1915a0",
   "metadata": {},
   "outputs": [],
   "source": [
    "assert min_output > min_input"
   ]
  },
  {
   "cell_type": "code",
   "execution_count": 12,
   "id": "981c85c5-ab9c-47e1-90c4-a5e2639aa19e",
   "metadata": {},
   "outputs": [],
   "source": [
    "assert max_output < max_input"
   ]
  },
  {
   "cell_type": "code",
   "execution_count": null,
   "id": "4bdd4d36-d010-4d1f-8728-109d09a3c3bb",
   "metadata": {},
   "outputs": [],
   "source": []
  }
 ],
 "metadata": {
  "kernelspec": {
   "display_name": "dbc",
   "language": "python",
   "name": "dbc"
  },
  "language_info": {
   "codemirror_mode": {
    "name": "ipython",
    "version": 3
   },
   "file_extension": ".py",
   "mimetype": "text/x-python",
   "name": "python",
   "nbconvert_exporter": "python",
   "pygments_lexer": "ipython3",
   "version": "3.9.5"
  }
 },
 "nbformat": 4,
 "nbformat_minor": 5
}
